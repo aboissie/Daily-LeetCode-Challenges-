{
 "cells": [
  {
   "cell_type": "code",
   "execution_count": 28,
   "metadata": {},
   "outputs": [],
   "source": [
    "nums = [7,7,7,7,7]"
   ]
  },
  {
   "cell_type": "code",
   "execution_count": 34,
   "metadata": {},
   "outputs": [
    {
     "data": {
      "text/plain": [
       "16"
      ]
     },
     "execution_count": 34,
     "metadata": {},
     "output_type": "execute_result"
    }
   ],
   "source": [
    "# First generate all combinations of subset of length == 3\n",
    "def numberOfArithmeticSlices(nums) -> int:\n",
    "    nums.sort()\n",
    "\n",
    "    Q = []\n",
    "    for i in range(len(nums)):\n",
    "        for j in range(i + 1, len(nums)):\n",
    "            Q.append(([nums[i], nums[j]], j, nums[j] - nums[i]))\n",
    "    \n",
    "    res = []\n",
    "\n",
    "    while(len(Q) > 0):\n",
    "        arr, idx, diff = Q.pop()\n",
    "\n",
    "        if len(arr) in range(3, len(nums) + 1):\n",
    "            res.append(arr)\n",
    "        \n",
    "        if(len(arr) > len(nums)):\n",
    "            continue \n",
    "\n",
    "        for j in range(idx + 1, len(nums)):\n",
    "            if nums[j] - arr[-1] == diff:\n",
    "                new_arr = arr + [nums[j]]\n",
    "                Q.append((new_arr, j, diff))\n",
    "\n",
    "    \n",
    "    return len(res)\n",
    "\n",
    "numberOfArithmeticSlices(nums)"
   ]
  }
 ],
 "metadata": {
  "kernelspec": {
   "display_name": "Python 3",
   "language": "python",
   "name": "python3"
  },
  "language_info": {
   "codemirror_mode": {
    "name": "ipython",
    "version": 3
   },
   "file_extension": ".py",
   "mimetype": "text/x-python",
   "name": "python",
   "nbconvert_exporter": "python",
   "pygments_lexer": "ipython3",
   "version": "3.9.6"
  }
 },
 "nbformat": 4,
 "nbformat_minor": 2
}
